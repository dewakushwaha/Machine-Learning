{
 "cells": [
  {
   "cell_type": "markdown",
   "id": "3b0ffbe9",
   "metadata": {},
   "source": [
    "# Problem Statement\n",
    "Epilepsy is a nervous system disorder that affects movement. The datasetcontains 195 records of various people with 23 features\n",
    "that contain biomedical measurements. Your model will be used to differentiate healthy people from people having the disease.\n",
    "Target Column is 'status'.Identify the best model"
   ]
  },
  {
   "cell_type": "markdown",
   "id": "ff9251f4",
   "metadata": {},
   "source": [
    "# Importing important libraries "
   ]
  },
  {
   "cell_type": "code",
   "execution_count": 1,
   "id": "beb87c2e",
   "metadata": {},
   "outputs": [],
   "source": [
    "import pandas as pd\n",
    "import numpy as np\n",
    "import matplotlib.pyplot as plt\n",
    "import seaborn as sns\n",
    "from sklearn.preprocessing import MinMaxScaler\n",
    "from sklearn.model_selection import train_test_split\n",
    "from sklearn.tree import DecisionTreeClassifier\n",
    "from sklearn.linear_model import LogisticRegression\n",
    "from sklearn.ensemble import RandomForestClassifier\n",
    "from sklearn.metrics import accuracy_score\n",
    "from sklearn.metrics import confusion_matrix,ConfusionMatrixDisplay\n",
    "\n",
    "%matplotlib inline"
   ]
  },
  {
   "cell_type": "code",
   "execution_count": 2,
   "id": "defc411d",
   "metadata": {},
   "outputs": [],
   "source": [
    "df=pd.read_csv('epilepsy.csv')"
   ]
  },
  {
   "cell_type": "code",
   "execution_count": 3,
   "id": "1be7981e",
   "metadata": {},
   "outputs": [
    {
     "data": {
      "text/html": [
       "<div>\n",
       "<style scoped>\n",
       "    .dataframe tbody tr th:only-of-type {\n",
       "        vertical-align: middle;\n",
       "    }\n",
       "\n",
       "    .dataframe tbody tr th {\n",
       "        vertical-align: top;\n",
       "    }\n",
       "\n",
       "    .dataframe thead th {\n",
       "        text-align: right;\n",
       "    }\n",
       "</style>\n",
       "<table border=\"1\" class=\"dataframe\">\n",
       "  <thead>\n",
       "    <tr style=\"text-align: right;\">\n",
       "      <th></th>\n",
       "      <th>name</th>\n",
       "      <th>MDVP:Fo(Hz)</th>\n",
       "      <th>MDVP:Fhi(Hz)</th>\n",
       "      <th>MDVP:Flo(Hz)</th>\n",
       "      <th>MDVP:Jitter(%)</th>\n",
       "      <th>MDVP:Jitter(Abs)</th>\n",
       "      <th>MDVP:RAP</th>\n",
       "      <th>MDVP:PPQ</th>\n",
       "      <th>Jitter:DDP</th>\n",
       "      <th>MDVP:Shimmer</th>\n",
       "      <th>...</th>\n",
       "      <th>Shimmer:DDA</th>\n",
       "      <th>NHR</th>\n",
       "      <th>HNR</th>\n",
       "      <th>RPDE</th>\n",
       "      <th>DFA</th>\n",
       "      <th>spread1</th>\n",
       "      <th>spread2</th>\n",
       "      <th>D2</th>\n",
       "      <th>PPE</th>\n",
       "      <th>status</th>\n",
       "    </tr>\n",
       "  </thead>\n",
       "  <tbody>\n",
       "    <tr>\n",
       "      <th>0</th>\n",
       "      <td>phon_R01_S01_1</td>\n",
       "      <td>119.992</td>\n",
       "      <td>157.302</td>\n",
       "      <td>74.997</td>\n",
       "      <td>0.00784</td>\n",
       "      <td>0.00007</td>\n",
       "      <td>0.00370</td>\n",
       "      <td>0.00554</td>\n",
       "      <td>0.01109</td>\n",
       "      <td>0.04374</td>\n",
       "      <td>...</td>\n",
       "      <td>0.06545</td>\n",
       "      <td>0.02211</td>\n",
       "      <td>21.033</td>\n",
       "      <td>0.414783</td>\n",
       "      <td>0.815285</td>\n",
       "      <td>-4.813031</td>\n",
       "      <td>0.266482</td>\n",
       "      <td>2.301442</td>\n",
       "      <td>0.284654</td>\n",
       "      <td>1</td>\n",
       "    </tr>\n",
       "    <tr>\n",
       "      <th>1</th>\n",
       "      <td>phon_R01_S01_2</td>\n",
       "      <td>122.400</td>\n",
       "      <td>148.650</td>\n",
       "      <td>113.819</td>\n",
       "      <td>0.00968</td>\n",
       "      <td>0.00008</td>\n",
       "      <td>0.00465</td>\n",
       "      <td>0.00696</td>\n",
       "      <td>0.01394</td>\n",
       "      <td>0.06134</td>\n",
       "      <td>...</td>\n",
       "      <td>0.09403</td>\n",
       "      <td>0.01929</td>\n",
       "      <td>19.085</td>\n",
       "      <td>0.458359</td>\n",
       "      <td>0.819521</td>\n",
       "      <td>-4.075192</td>\n",
       "      <td>0.335590</td>\n",
       "      <td>2.486855</td>\n",
       "      <td>0.368674</td>\n",
       "      <td>1</td>\n",
       "    </tr>\n",
       "    <tr>\n",
       "      <th>2</th>\n",
       "      <td>phon_R01_S01_3</td>\n",
       "      <td>116.682</td>\n",
       "      <td>131.111</td>\n",
       "      <td>111.555</td>\n",
       "      <td>0.01050</td>\n",
       "      <td>0.00009</td>\n",
       "      <td>0.00544</td>\n",
       "      <td>0.00781</td>\n",
       "      <td>0.01633</td>\n",
       "      <td>0.05233</td>\n",
       "      <td>...</td>\n",
       "      <td>0.08270</td>\n",
       "      <td>0.01309</td>\n",
       "      <td>20.651</td>\n",
       "      <td>0.429895</td>\n",
       "      <td>0.825288</td>\n",
       "      <td>-4.443179</td>\n",
       "      <td>0.311173</td>\n",
       "      <td>2.342259</td>\n",
       "      <td>0.332634</td>\n",
       "      <td>1</td>\n",
       "    </tr>\n",
       "    <tr>\n",
       "      <th>3</th>\n",
       "      <td>phon_R01_S01_4</td>\n",
       "      <td>116.676</td>\n",
       "      <td>137.871</td>\n",
       "      <td>111.366</td>\n",
       "      <td>0.00997</td>\n",
       "      <td>0.00009</td>\n",
       "      <td>0.00502</td>\n",
       "      <td>0.00698</td>\n",
       "      <td>0.01505</td>\n",
       "      <td>0.05492</td>\n",
       "      <td>...</td>\n",
       "      <td>0.08771</td>\n",
       "      <td>0.01353</td>\n",
       "      <td>20.644</td>\n",
       "      <td>0.434969</td>\n",
       "      <td>0.819235</td>\n",
       "      <td>-4.117501</td>\n",
       "      <td>0.334147</td>\n",
       "      <td>2.405554</td>\n",
       "      <td>0.368975</td>\n",
       "      <td>1</td>\n",
       "    </tr>\n",
       "    <tr>\n",
       "      <th>4</th>\n",
       "      <td>phon_R01_S01_5</td>\n",
       "      <td>116.014</td>\n",
       "      <td>141.781</td>\n",
       "      <td>110.655</td>\n",
       "      <td>0.01284</td>\n",
       "      <td>0.00011</td>\n",
       "      <td>0.00655</td>\n",
       "      <td>0.00908</td>\n",
       "      <td>0.01966</td>\n",
       "      <td>0.06425</td>\n",
       "      <td>...</td>\n",
       "      <td>0.10470</td>\n",
       "      <td>0.01767</td>\n",
       "      <td>19.649</td>\n",
       "      <td>0.417356</td>\n",
       "      <td>0.823484</td>\n",
       "      <td>-3.747787</td>\n",
       "      <td>0.234513</td>\n",
       "      <td>2.332180</td>\n",
       "      <td>0.410335</td>\n",
       "      <td>1</td>\n",
       "    </tr>\n",
       "  </tbody>\n",
       "</table>\n",
       "<p>5 rows × 24 columns</p>\n",
       "</div>"
      ],
      "text/plain": [
       "             name  MDVP:Fo(Hz)  MDVP:Fhi(Hz)  MDVP:Flo(Hz)  MDVP:Jitter(%)  \\\n",
       "0  phon_R01_S01_1      119.992       157.302        74.997         0.00784   \n",
       "1  phon_R01_S01_2      122.400       148.650       113.819         0.00968   \n",
       "2  phon_R01_S01_3      116.682       131.111       111.555         0.01050   \n",
       "3  phon_R01_S01_4      116.676       137.871       111.366         0.00997   \n",
       "4  phon_R01_S01_5      116.014       141.781       110.655         0.01284   \n",
       "\n",
       "   MDVP:Jitter(Abs)  MDVP:RAP  MDVP:PPQ  Jitter:DDP  MDVP:Shimmer  ...  \\\n",
       "0           0.00007   0.00370   0.00554     0.01109       0.04374  ...   \n",
       "1           0.00008   0.00465   0.00696     0.01394       0.06134  ...   \n",
       "2           0.00009   0.00544   0.00781     0.01633       0.05233  ...   \n",
       "3           0.00009   0.00502   0.00698     0.01505       0.05492  ...   \n",
       "4           0.00011   0.00655   0.00908     0.01966       0.06425  ...   \n",
       "\n",
       "   Shimmer:DDA      NHR     HNR      RPDE       DFA   spread1   spread2  \\\n",
       "0      0.06545  0.02211  21.033  0.414783  0.815285 -4.813031  0.266482   \n",
       "1      0.09403  0.01929  19.085  0.458359  0.819521 -4.075192  0.335590   \n",
       "2      0.08270  0.01309  20.651  0.429895  0.825288 -4.443179  0.311173   \n",
       "3      0.08771  0.01353  20.644  0.434969  0.819235 -4.117501  0.334147   \n",
       "4      0.10470  0.01767  19.649  0.417356  0.823484 -3.747787  0.234513   \n",
       "\n",
       "         D2       PPE  status  \n",
       "0  2.301442  0.284654       1  \n",
       "1  2.486855  0.368674       1  \n",
       "2  2.342259  0.332634       1  \n",
       "3  2.405554  0.368975       1  \n",
       "4  2.332180  0.410335       1  \n",
       "\n",
       "[5 rows x 24 columns]"
      ]
     },
     "execution_count": 3,
     "metadata": {},
     "output_type": "execute_result"
    }
   ],
   "source": [
    "df.head()"
   ]
  },
  {
   "cell_type": "code",
   "execution_count": 4,
   "id": "80aaae1d",
   "metadata": {},
   "outputs": [
    {
     "name": "stdout",
     "output_type": "stream",
     "text": [
      "<class 'pandas.core.frame.DataFrame'>\n",
      "RangeIndex: 195 entries, 0 to 194\n",
      "Data columns (total 24 columns):\n",
      " #   Column            Non-Null Count  Dtype  \n",
      "---  ------            --------------  -----  \n",
      " 0   name              195 non-null    object \n",
      " 1   MDVP:Fo(Hz)       195 non-null    float64\n",
      " 2   MDVP:Fhi(Hz)      195 non-null    float64\n",
      " 3   MDVP:Flo(Hz)      195 non-null    float64\n",
      " 4   MDVP:Jitter(%)    195 non-null    float64\n",
      " 5   MDVP:Jitter(Abs)  195 non-null    float64\n",
      " 6   MDVP:RAP          195 non-null    float64\n",
      " 7   MDVP:PPQ          193 non-null    float64\n",
      " 8   Jitter:DDP        194 non-null    float64\n",
      " 9   MDVP:Shimmer      195 non-null    float64\n",
      " 10  MDVP:Shimmer(dB)  195 non-null    float64\n",
      " 11  Shimmer:APQ3      195 non-null    float64\n",
      " 12  Shimmer:APQ5      195 non-null    float64\n",
      " 13  MDVP:APQ          195 non-null    float64\n",
      " 14  Shimmer:DDA       195 non-null    float64\n",
      " 15  NHR               195 non-null    float64\n",
      " 16  HNR               195 non-null    float64\n",
      " 17  RPDE              195 non-null    float64\n",
      " 18  DFA               195 non-null    float64\n",
      " 19  spread1           195 non-null    float64\n",
      " 20  spread2           195 non-null    float64\n",
      " 21  D2                195 non-null    float64\n",
      " 22  PPE               195 non-null    float64\n",
      " 23  status            195 non-null    int64  \n",
      "dtypes: float64(22), int64(1), object(1)\n",
      "memory usage: 36.7+ KB\n"
     ]
    }
   ],
   "source": [
    "df.info()"
   ]
  },
  {
   "cell_type": "markdown",
   "id": "7a933244",
   "metadata": {},
   "source": [
    "# Exploratory Data Analysis"
   ]
  },
  {
   "cell_type": "markdown",
   "id": "a8ece961",
   "metadata": {},
   "source": [
    "### Missing Data\n",
    "Using seaborn to create a simple heatmap to see missing data!"
   ]
  },
  {
   "cell_type": "code",
   "execution_count": 5,
   "id": "9b24e78e",
   "metadata": {},
   "outputs": [
    {
     "data": {
      "text/plain": [
       "<AxesSubplot:>"
      ]
     },
     "execution_count": 5,
     "metadata": {},
     "output_type": "execute_result"
    },
    {
     "data": {
      "image/png": "[encoded data removed]",
      "text/plain": [
       "<Figure size 432x288 with 1 Axes>"
      ]
     },
     "metadata": {
      "needs_background": "light"
     },
     "output_type": "display_data"
    }
   ],
   "source": [
    "sns.heatmap(df.isnull(),yticklabels=False,cbar=False,cmap='viridis')"
   ]
  },
  {
   "cell_type": "code",
   "execution_count": 6,
   "id": "201fc436",
   "metadata": {},
   "outputs": [],
   "source": [
    "df['MDVP:PPQ'].fillna(df['MDVP:PPQ'].mean(),inplace=True)\n",
    "df['Jitter:DDP'].fillna(df['Jitter:DDP'].mean(),inplace=True)"
   ]
  },
  {
   "cell_type": "code",
   "execution_count": 7,
   "id": "0bb5efd0",
   "metadata": {},
   "outputs": [
    {
     "data": {
      "text/plain": [
       "<AxesSubplot:>"
      ]
     },
     "execution_count": 7,
     "metadata": {},
     "output_type": "execute_result"
    },
    {
     "data": {
      "image/png": "[encoded data removed]",
      "text/plain": [
       "<Figure size 432x288 with 1 Axes>"
      ]
     },
     "metadata": {
      "needs_background": "light"
     },
     "output_type": "display_data"
    }
   ],
   "source": [
    "sns.heatmap(df.isnull(),yticklabels=False,cbar=False,cmap='viridis')"
   ]
  },
  {
   "cell_type": "code",
   "execution_count": 8,
   "id": "639834cb",
   "metadata": {},
   "outputs": [
    {
     "data": {
      "text/plain": [
       "<AxesSubplot:xlabel='status', ylabel='count'>"
      ]
     },
     "execution_count": 8,
     "metadata": {},
     "output_type": "execute_result"
    },
    {
     "data": {
      "image/png": "[encoded data removed]",
      "text/plain": [
       "<Figure size 432x288 with 1 Axes>"
      ]
     },
     "metadata": {
      "needs_background": "light"
     },
     "output_type": "display_data"
    }
   ],
   "source": [
    "sns.countplot(x='status',data=df,palette='Set1')"
   ]
  },
  {
   "cell_type": "markdown",
   "id": "05297fbe",
   "metadata": {},
   "source": [
    "## Scaling"
   ]
  },
  {
   "cell_type": "code",
   "execution_count": 9,
   "id": "c12f3638",
   "metadata": {},
   "outputs": [],
   "source": [
    "scale=MinMaxScaler()"
   ]
  },
  {
   "cell_type": "code",
   "execution_count": 10,
   "id": "4f6a2b5f",
   "metadata": {},
   "outputs": [],
   "source": [
    "target=df['status']"
   ]
  },
  {
   "cell_type": "code",
   "execution_count": 11,
   "id": "a96d0d9e",
   "metadata": {},
   "outputs": [],
   "source": [
    "df.drop(['name','status'],axis=1,inplace=True)"
   ]
  },
  {
   "cell_type": "code",
   "execution_count": 12,
   "id": "396910d2",
   "metadata": {},
   "outputs": [
    {
     "data": {
      "text/plain": [
       "MinMaxScaler()"
      ]
     },
     "execution_count": 12,
     "metadata": {},
     "output_type": "execute_result"
    }
   ],
   "source": [
    "scale.fit(df)"
   ]
  },
  {
   "cell_type": "code",
   "execution_count": 13,
   "id": "53ff3b27",
   "metadata": {},
   "outputs": [],
   "source": [
    "new_df = scale.transform(df)\n",
    "df_new = pd.DataFrame(new_df,columns=scale.feature_names_in_)"
   ]
  },
  {
   "cell_type": "code",
   "execution_count": 14,
   "id": "cb8ad7c2",
   "metadata": {},
   "outputs": [
    {
     "data": {
      "text/html": [
       "<div>\n",
       "<style scoped>\n",
       "    .dataframe tbody tr th:only-of-type {\n",
       "        vertical-align: middle;\n",
       "    }\n",
       "\n",
       "    .dataframe tbody tr th {\n",
       "        vertical-align: top;\n",
       "    }\n",
       "\n",
       "    .dataframe thead th {\n",
       "        text-align: right;\n",
       "    }\n",
       "</style>\n",
       "<table border=\"1\" class=\"dataframe\">\n",
       "  <thead>\n",
       "    <tr style=\"text-align: right;\">\n",
       "      <th></th>\n",
       "      <th>MDVP:Fo(Hz)</th>\n",
       "      <th>MDVP:Fhi(Hz)</th>\n",
       "      <th>MDVP:Flo(Hz)</th>\n",
       "      <th>MDVP:Jitter(%)</th>\n",
       "      <th>MDVP:Jitter(Abs)</th>\n",
       "      <th>MDVP:RAP</th>\n",
       "      <th>MDVP:PPQ</th>\n",
       "      <th>Jitter:DDP</th>\n",
       "      <th>MDVP:Shimmer</th>\n",
       "      <th>MDVP:Shimmer(dB)</th>\n",
       "      <th>...</th>\n",
       "      <th>MDVP:APQ</th>\n",
       "      <th>Shimmer:DDA</th>\n",
       "      <th>NHR</th>\n",
       "      <th>HNR</th>\n",
       "      <th>RPDE</th>\n",
       "      <th>DFA</th>\n",
       "      <th>spread1</th>\n",
       "      <th>spread2</th>\n",
       "      <th>D2</th>\n",
       "      <th>PPE</th>\n",
       "    </tr>\n",
       "  </thead>\n",
       "  <tbody>\n",
       "    <tr>\n",
       "      <th>0</th>\n",
       "      <td>0.184308</td>\n",
       "      <td>0.112592</td>\n",
       "      <td>0.054815</td>\n",
       "      <td>0.195680</td>\n",
       "      <td>0.249012</td>\n",
       "      <td>0.145472</td>\n",
       "      <td>0.247588</td>\n",
       "      <td>0.145288</td>\n",
       "      <td>0.312215</td>\n",
       "      <td>0.280197</td>\n",
       "      <td>...</td>\n",
       "      <td>0.172448</td>\n",
       "      <td>0.332584</td>\n",
       "      <td>0.068307</td>\n",
       "      <td>0.511745</td>\n",
       "      <td>0.369155</td>\n",
       "      <td>0.960148</td>\n",
       "      <td>0.569875</td>\n",
       "      <td>0.585765</td>\n",
       "      <td>0.390661</td>\n",
       "      <td>0.497310</td>\n",
       "    </tr>\n",
       "    <tr>\n",
       "      <th>1</th>\n",
       "      <td>0.198327</td>\n",
       "      <td>0.094930</td>\n",
       "      <td>0.278323</td>\n",
       "      <td>0.254130</td>\n",
       "      <td>0.288538</td>\n",
       "      <td>0.191233</td>\n",
       "      <td>0.323687</td>\n",
       "      <td>0.191042</td>\n",
       "      <td>0.472887</td>\n",
       "      <td>0.444536</td>\n",
       "      <td>...</td>\n",
       "      <td>0.279424</td>\n",
       "      <td>0.516048</td>\n",
       "      <td>0.059331</td>\n",
       "      <td>0.432577</td>\n",
       "      <td>0.470830</td>\n",
       "      <td>0.977024</td>\n",
       "      <td>0.703277</td>\n",
       "      <td>0.741337</td>\n",
       "      <td>0.473145</td>\n",
       "      <td>0.671326</td>\n",
       "    </tr>\n",
       "    <tr>\n",
       "      <th>2</th>\n",
       "      <td>0.165039</td>\n",
       "      <td>0.059128</td>\n",
       "      <td>0.265288</td>\n",
       "      <td>0.280178</td>\n",
       "      <td>0.328063</td>\n",
       "      <td>0.229287</td>\n",
       "      <td>0.369239</td>\n",
       "      <td>0.229411</td>\n",
       "      <td>0.390634</td>\n",
       "      <td>0.326212</td>\n",
       "      <td>...</td>\n",
       "      <td>0.219848</td>\n",
       "      <td>0.443317</td>\n",
       "      <td>0.039596</td>\n",
       "      <td>0.496220</td>\n",
       "      <td>0.404416</td>\n",
       "      <td>1.000000</td>\n",
       "      <td>0.636745</td>\n",
       "      <td>0.686371</td>\n",
       "      <td>0.408819</td>\n",
       "      <td>0.596682</td>\n",
       "    </tr>\n",
       "    <tr>\n",
       "      <th>3</th>\n",
       "      <td>0.165004</td>\n",
       "      <td>0.072927</td>\n",
       "      <td>0.264200</td>\n",
       "      <td>0.263342</td>\n",
       "      <td>0.328063</td>\n",
       "      <td>0.209056</td>\n",
       "      <td>0.324759</td>\n",
       "      <td>0.208862</td>\n",
       "      <td>0.414278</td>\n",
       "      <td>0.354971</td>\n",
       "      <td>...</td>\n",
       "      <td>0.233785</td>\n",
       "      <td>0.475478</td>\n",
       "      <td>0.040997</td>\n",
       "      <td>0.495936</td>\n",
       "      <td>0.416255</td>\n",
       "      <td>0.975885</td>\n",
       "      <td>0.695627</td>\n",
       "      <td>0.738089</td>\n",
       "      <td>0.436977</td>\n",
       "      <td>0.671949</td>\n",
       "    </tr>\n",
       "    <tr>\n",
       "      <th>4</th>\n",
       "      <td>0.161150</td>\n",
       "      <td>0.080909</td>\n",
       "      <td>0.260107</td>\n",
       "      <td>0.354511</td>\n",
       "      <td>0.407115</td>\n",
       "      <td>0.282755</td>\n",
       "      <td>0.437299</td>\n",
       "      <td>0.282870</td>\n",
       "      <td>0.499452</td>\n",
       "      <td>0.410025</td>\n",
       "      <td>...</td>\n",
       "      <td>0.286852</td>\n",
       "      <td>0.584542</td>\n",
       "      <td>0.054174</td>\n",
       "      <td>0.455499</td>\n",
       "      <td>0.375159</td>\n",
       "      <td>0.992813</td>\n",
       "      <td>0.762472</td>\n",
       "      <td>0.513798</td>\n",
       "      <td>0.404336</td>\n",
       "      <td>0.757611</td>\n",
       "    </tr>\n",
       "    <tr>\n",
       "      <th>...</th>\n",
       "      <td>...</td>\n",
       "      <td>...</td>\n",
       "      <td>...</td>\n",
       "      <td>...</td>\n",
       "      <td>...</td>\n",
       "      <td>...</td>\n",
       "      <td>...</td>\n",
       "      <td>...</td>\n",
       "      <td>...</td>\n",
       "      <td>...</td>\n",
       "      <td>...</td>\n",
       "      <td>...</td>\n",
       "      <td>...</td>\n",
       "      <td>...</td>\n",
       "      <td>...</td>\n",
       "      <td>...</td>\n",
       "      <td>...</td>\n",
       "      <td>...</td>\n",
       "      <td>...</td>\n",
       "      <td>...</td>\n",
       "      <td>...</td>\n",
       "    </tr>\n",
       "    <tr>\n",
       "      <th>190</th>\n",
       "      <td>0.499820</td>\n",
       "      <td>0.262986</td>\n",
       "      <td>0.165722</td>\n",
       "      <td>0.092440</td>\n",
       "      <td>0.090909</td>\n",
       "      <td>0.093931</td>\n",
       "      <td>0.089496</td>\n",
       "      <td>0.094076</td>\n",
       "      <td>0.286014</td>\n",
       "      <td>0.262942</td>\n",
       "      <td>...</td>\n",
       "      <td>0.155142</td>\n",
       "      <td>0.362306</td>\n",
       "      <td>0.085909</td>\n",
       "      <td>0.450134</td>\n",
       "      <td>0.447684</td>\n",
       "      <td>0.333127</td>\n",
       "      <td>0.257894</td>\n",
       "      <td>0.260408</td>\n",
       "      <td>0.549049</td>\n",
       "      <td>0.183318</td>\n",
       "    </tr>\n",
       "    <tr>\n",
       "      <th>191</th>\n",
       "      <td>0.705488</td>\n",
       "      <td>0.307974</td>\n",
       "      <td>0.138243</td>\n",
       "      <td>0.125794</td>\n",
       "      <td>0.090909</td>\n",
       "      <td>0.126686</td>\n",
       "      <td>0.107181</td>\n",
       "      <td>0.126826</td>\n",
       "      <td>0.164050</td>\n",
       "      <td>0.146261</td>\n",
       "      <td>...</td>\n",
       "      <td>0.088828</td>\n",
       "      <td>0.221338</td>\n",
       "      <td>0.055543</td>\n",
       "      <td>0.435097</td>\n",
       "      <td>0.408567</td>\n",
       "      <td>0.434101</td>\n",
       "      <td>0.319956</td>\n",
       "      <td>0.276956</td>\n",
       "      <td>0.605474</td>\n",
       "      <td>0.257558</td>\n",
       "    </tr>\n",
       "    <tr>\n",
       "      <th>192</th>\n",
       "      <td>0.502730</td>\n",
       "      <td>0.281413</td>\n",
       "      <td>0.050727</td>\n",
       "      <td>0.378653</td>\n",
       "      <td>0.288538</td>\n",
       "      <td>0.267823</td>\n",
       "      <td>0.252947</td>\n",
       "      <td>0.267940</td>\n",
       "      <td>0.123608</td>\n",
       "      <td>0.140509</td>\n",
       "      <td>...</td>\n",
       "      <td>0.072594</td>\n",
       "      <td>0.156631</td>\n",
       "      <td>0.338988</td>\n",
       "      <td>0.383728</td>\n",
       "      <td>0.352318</td>\n",
       "      <td>0.324299</td>\n",
       "      <td>0.212945</td>\n",
       "      <td>0.342577</td>\n",
       "      <td>0.558967</td>\n",
       "      <td>0.180580</td>\n",
       "    </tr>\n",
       "    <tr>\n",
       "      <th>193</th>\n",
       "      <td>0.642893</td>\n",
       "      <td>0.601807</td>\n",
       "      <td>0.054279</td>\n",
       "      <td>0.181703</td>\n",
       "      <td>0.130435</td>\n",
       "      <td>0.145472</td>\n",
       "      <td>0.159700</td>\n",
       "      <td>0.145288</td>\n",
       "      <td>0.122512</td>\n",
       "      <td>0.128184</td>\n",
       "      <td>...</td>\n",
       "      <td>0.066544</td>\n",
       "      <td>0.155989</td>\n",
       "      <td>0.227838</td>\n",
       "      <td>0.429936</td>\n",
       "      <td>0.454176</td>\n",
       "      <td>0.277579</td>\n",
       "      <td>0.220650</td>\n",
       "      <td>0.452885</td>\n",
       "      <td>0.318222</td>\n",
       "      <td>0.163137</td>\n",
       "    </tr>\n",
       "    <tr>\n",
       "      <th>194</th>\n",
       "      <td>0.733274</td>\n",
       "      <td>0.322794</td>\n",
       "      <td>0.071948</td>\n",
       "      <td>0.126747</td>\n",
       "      <td>0.090909</td>\n",
       "      <td>0.109345</td>\n",
       "      <td>0.120579</td>\n",
       "      <td>0.109327</td>\n",
       "      <td>0.084900</td>\n",
       "      <td>0.086278</td>\n",
       "      <td>...</td>\n",
       "      <td>0.050080</td>\n",
       "      <td>0.110027</td>\n",
       "      <td>0.137919</td>\n",
       "      <td>0.518898</td>\n",
       "      <td>0.481200</td>\n",
       "      <td>0.358856</td>\n",
       "      <td>0.405161</td>\n",
       "      <td>0.415095</td>\n",
       "      <td>0.503673</td>\n",
       "      <td>0.215460</td>\n",
       "    </tr>\n",
       "  </tbody>\n",
       "</table>\n",
       "<p>195 rows × 22 columns</p>\n",
       "</div>"
      ],
      "text/plain": [
       "     MDVP:Fo(Hz)  MDVP:Fhi(Hz)  MDVP:Flo(Hz)  MDVP:Jitter(%)  \\\n",
       "0       0.184308      0.112592      0.054815        0.195680   \n",
       "1       0.198327      0.094930      0.278323        0.254130   \n",
       "2       0.165039      0.059128      0.265288        0.280178   \n",
       "3       0.165004      0.072927      0.264200        0.263342   \n",
       "4       0.161150      0.080909      0.260107        0.354511   \n",
       "..           ...           ...           ...             ...   \n",
       "190     0.499820      0.262986      0.165722        0.092440   \n",
       "191     0.705488      0.307974      0.138243        0.125794   \n",
       "192     0.502730      0.281413      0.050727        0.378653   \n",
       "193     0.642893      0.601807      0.054279        0.181703   \n",
       "194     0.733274      0.322794      0.071948        0.126747   \n",
       "\n",
       "     MDVP:Jitter(Abs)  MDVP:RAP  MDVP:PPQ  Jitter:DDP  MDVP:Shimmer  \\\n",
       "0            0.249012  0.145472  0.247588    0.145288      0.312215   \n",
       "1            0.288538  0.191233  0.323687    0.191042      0.472887   \n",
       "2            0.328063  0.229287  0.369239    0.229411      0.390634   \n",
       "3            0.328063  0.209056  0.324759    0.208862      0.414278   \n",
       "4            0.407115  0.282755  0.437299    0.282870      0.499452   \n",
       "..                ...       ...       ...         ...           ...   \n",
       "190          0.090909  0.093931  0.089496    0.094076      0.286014   \n",
       "191          0.090909  0.126686  0.107181    0.126826      0.164050   \n",
       "192          0.288538  0.267823  0.252947    0.267940      0.123608   \n",
       "193          0.130435  0.145472  0.159700    0.145288      0.122512   \n",
       "194          0.090909  0.109345  0.120579    0.109327      0.084900   \n",
       "\n",
       "     MDVP:Shimmer(dB)  ...  MDVP:APQ  Shimmer:DDA       NHR       HNR  \\\n",
       "0            0.280197  ...  0.172448     0.332584  0.068307  0.511745   \n",
       "1            0.444536  ...  0.279424     0.516048  0.059331  0.432577   \n",
       "2            0.326212  ...  0.219848     0.443317  0.039596  0.496220   \n",
       "3            0.354971  ...  0.233785     0.475478  0.040997  0.495936   \n",
       "4            0.410025  ...  0.286852     0.584542  0.054174  0.455499   \n",
       "..                ...  ...       ...          ...       ...       ...   \n",
       "190          0.262942  ...  0.155142     0.362306  0.085909  0.450134   \n",
       "191          0.146261  ...  0.088828     0.221338  0.055543  0.435097   \n",
       "192          0.140509  ...  0.072594     0.156631  0.338988  0.383728   \n",
       "193          0.128184  ...  0.066544     0.155989  0.227838  0.429936   \n",
       "194          0.086278  ...  0.050080     0.110027  0.137919  0.518898   \n",
       "\n",
       "         RPDE       DFA   spread1   spread2        D2       PPE  \n",
       "0    0.369155  0.960148  0.569875  0.585765  0.390661  0.497310  \n",
       "1    0.470830  0.977024  0.703277  0.741337  0.473145  0.671326  \n",
       "2    0.404416  1.000000  0.636745  0.686371  0.408819  0.596682  \n",
       "3    0.416255  0.975885  0.695627  0.738089  0.436977  0.671949  \n",
       "4    0.375159  0.992813  0.762472  0.513798  0.404336  0.757611  \n",
       "..        ...       ...       ...       ...       ...       ...  \n",
       "190  0.447684  0.333127  0.257894  0.260408  0.549049  0.183318  \n",
       "191  0.408567  0.434101  0.319956  0.276956  0.605474  0.257558  \n",
       "192  0.352318  0.324299  0.212945  0.342577  0.558967  0.180580  \n",
       "193  0.454176  0.277579  0.220650  0.452885  0.318222  0.163137  \n",
       "194  0.481200  0.358856  0.405161  0.415095  0.503673  0.215460  \n",
       "\n",
       "[195 rows x 22 columns]"
      ]
     },
     "execution_count": 14,
     "metadata": {},
     "output_type": "execute_result"
    }
   ],
   "source": [
    "df_new"
   ]
  },
  {
   "cell_type": "code",
   "execution_count": 15,
   "id": "8a76b14a",
   "metadata": {},
   "outputs": [
    {
     "data": {
      "text/html": [
       "<div>\n",
       "<style scoped>\n",
       "    .dataframe tbody tr th:only-of-type {\n",
       "        vertical-align: middle;\n",
       "    }\n",
       "\n",
       "    .dataframe tbody tr th {\n",
       "        vertical-align: top;\n",
       "    }\n",
       "\n",
       "    .dataframe thead th {\n",
       "        text-align: right;\n",
       "    }\n",
       "</style>\n",
       "<table border=\"1\" class=\"dataframe\">\n",
       "  <thead>\n",
       "    <tr style=\"text-align: right;\">\n",
       "      <th></th>\n",
       "      <th>MDVP:Fo(Hz)</th>\n",
       "      <th>MDVP:Fhi(Hz)</th>\n",
       "      <th>MDVP:Flo(Hz)</th>\n",
       "      <th>MDVP:Jitter(%)</th>\n",
       "      <th>MDVP:Jitter(Abs)</th>\n",
       "      <th>MDVP:RAP</th>\n",
       "      <th>MDVP:PPQ</th>\n",
       "      <th>Jitter:DDP</th>\n",
       "      <th>MDVP:Shimmer</th>\n",
       "      <th>MDVP:Shimmer(dB)</th>\n",
       "      <th>...</th>\n",
       "      <th>MDVP:APQ</th>\n",
       "      <th>Shimmer:DDA</th>\n",
       "      <th>NHR</th>\n",
       "      <th>HNR</th>\n",
       "      <th>RPDE</th>\n",
       "      <th>DFA</th>\n",
       "      <th>spread1</th>\n",
       "      <th>spread2</th>\n",
       "      <th>D2</th>\n",
       "      <th>PPE</th>\n",
       "    </tr>\n",
       "  </thead>\n",
       "  <tbody>\n",
       "    <tr>\n",
       "      <th>count</th>\n",
       "      <td>195.000000</td>\n",
       "      <td>195.000000</td>\n",
       "      <td>195.000000</td>\n",
       "      <td>195.000000</td>\n",
       "      <td>195.000000</td>\n",
       "      <td>195.000000</td>\n",
       "      <td>195.000000</td>\n",
       "      <td>195.000000</td>\n",
       "      <td>195.000000</td>\n",
       "      <td>195.000000</td>\n",
       "      <td>...</td>\n",
       "      <td>195.000000</td>\n",
       "      <td>195.000000</td>\n",
       "      <td>195.000000</td>\n",
       "      <td>195.000000</td>\n",
       "      <td>195.000000</td>\n",
       "      <td>195.000000</td>\n",
       "      <td>195.000000</td>\n",
       "      <td>195.000000</td>\n",
       "      <td>195.000000</td>\n",
       "      <td>195.000000</td>\n",
       "    </tr>\n",
       "    <tr>\n",
       "      <th>mean</th>\n",
       "      <td>0.383623</td>\n",
       "      <td>0.193841</td>\n",
       "      <td>0.292748</td>\n",
       "      <td>0.144233</td>\n",
       "      <td>0.146083</td>\n",
       "      <td>0.126513</td>\n",
       "      <td>0.136539</td>\n",
       "      <td>0.126704</td>\n",
       "      <td>0.184126</td>\n",
       "      <td>0.162080</td>\n",
       "      <td>...</td>\n",
       "      <td>0.129347</td>\n",
       "      <td>0.214101</td>\n",
       "      <td>0.077019</td>\n",
       "      <td>0.546410</td>\n",
       "      <td>0.564574</td>\n",
       "      <td>0.572963</td>\n",
       "      <td>0.412332</td>\n",
       "      <td>0.495783</td>\n",
       "      <td>0.426421</td>\n",
       "      <td>0.335549</td>\n",
       "    </tr>\n",
       "    <tr>\n",
       "      <th>std</th>\n",
       "      <td>0.240959</td>\n",
       "      <td>0.186761</td>\n",
       "      <td>0.250564</td>\n",
       "      <td>0.154007</td>\n",
       "      <td>0.137636</td>\n",
       "      <td>0.142956</td>\n",
       "      <td>0.147420</td>\n",
       "      <td>0.142906</td>\n",
       "      <td>0.172147</td>\n",
       "      <td>0.160129</td>\n",
       "      <td>...</td>\n",
       "      <td>0.129771</td>\n",
       "      <td>0.195527</td>\n",
       "      <td>0.128652</td>\n",
       "      <td>0.179865</td>\n",
       "      <td>0.242525</td>\n",
       "      <td>0.220456</td>\n",
       "      <td>0.197110</td>\n",
       "      <td>0.187758</td>\n",
       "      <td>0.170294</td>\n",
       "      <td>0.186649</td>\n",
       "    </tr>\n",
       "    <tr>\n",
       "      <th>min</th>\n",
       "      <td>0.000000</td>\n",
       "      <td>0.000000</td>\n",
       "      <td>0.000000</td>\n",
       "      <td>0.000000</td>\n",
       "      <td>0.000000</td>\n",
       "      <td>0.000000</td>\n",
       "      <td>0.000000</td>\n",
       "      <td>0.000000</td>\n",
       "      <td>0.000000</td>\n",
       "      <td>0.000000</td>\n",
       "      <td>...</td>\n",
       "      <td>0.000000</td>\n",
       "      <td>0.000000</td>\n",
       "      <td>0.000000</td>\n",
       "      <td>0.000000</td>\n",
       "      <td>0.000000</td>\n",
       "      <td>0.000000</td>\n",
       "      <td>0.000000</td>\n",
       "      <td>0.000000</td>\n",
       "      <td>0.000000</td>\n",
       "      <td>0.000000</td>\n",
       "    </tr>\n",
       "    <tr>\n",
       "      <th>25%</th>\n",
       "      <td>0.170220</td>\n",
       "      <td>0.066786</td>\n",
       "      <td>0.108323</td>\n",
       "      <td>0.056544</td>\n",
       "      <td>0.051383</td>\n",
       "      <td>0.047206</td>\n",
       "      <td>0.051983</td>\n",
       "      <td>0.047279</td>\n",
       "      <td>0.063584</td>\n",
       "      <td>0.052177</td>\n",
       "      <td>...</td>\n",
       "      <td>0.045103</td>\n",
       "      <td>0.071222</td>\n",
       "      <td>0.016790</td>\n",
       "      <td>0.437170</td>\n",
       "      <td>0.384375</td>\n",
       "      <td>0.400291</td>\n",
       "      <td>0.273893</td>\n",
       "      <td>0.378364</td>\n",
       "      <td>0.300658</td>\n",
       "      <td>0.192433</td>\n",
       "    </tr>\n",
       "    <tr>\n",
       "      <th>50%</th>\n",
       "      <td>0.351961</td>\n",
       "      <td>0.150411</td>\n",
       "      <td>0.223606</td>\n",
       "      <td>0.103558</td>\n",
       "      <td>0.090909</td>\n",
       "      <td>0.087669</td>\n",
       "      <td>0.098071</td>\n",
       "      <td>0.087494</td>\n",
       "      <td>0.122604</td>\n",
       "      <td>0.111750</td>\n",
       "      <td>...</td>\n",
       "      <td>0.084769</td>\n",
       "      <td>0.158685</td>\n",
       "      <td>0.035045</td>\n",
       "      <td>0.554499</td>\n",
       "      <td>0.558550</td>\n",
       "      <td>0.589516</td>\n",
       "      <td>0.405738</td>\n",
       "      <td>0.478618</td>\n",
       "      <td>0.417393</td>\n",
       "      <td>0.309661</td>\n",
       "    </tr>\n",
       "    <tr>\n",
       "      <th>75%</th>\n",
       "      <td>0.549775</td>\n",
       "      <td>0.249162</td>\n",
       "      <td>0.429160</td>\n",
       "      <td>0.180591</td>\n",
       "      <td>0.209486</td>\n",
       "      <td>0.151975</td>\n",
       "      <td>0.162647</td>\n",
       "      <td>0.151951</td>\n",
       "      <td>0.258764</td>\n",
       "      <td>0.217749</td>\n",
       "      <td>...</td>\n",
       "      <td>0.170074</td>\n",
       "      <td>0.302703</td>\n",
       "      <td>0.079543</td>\n",
       "      <td>0.676034</td>\n",
       "      <td>0.772299</td>\n",
       "      <td>0.747391</td>\n",
       "      <td>0.527720</td>\n",
       "      <td>0.614472</td>\n",
       "      <td>0.539698</td>\n",
       "      <td>0.431709</td>\n",
       "    </tr>\n",
       "    <tr>\n",
       "      <th>max</th>\n",
       "      <td>1.000000</td>\n",
       "      <td>1.000000</td>\n",
       "      <td>1.000000</td>\n",
       "      <td>1.000000</td>\n",
       "      <td>1.000000</td>\n",
       "      <td>1.000000</td>\n",
       "      <td>1.000000</td>\n",
       "      <td>1.000000</td>\n",
       "      <td>1.000000</td>\n",
       "      <td>1.000000</td>\n",
       "      <td>...</td>\n",
       "      <td>1.000000</td>\n",
       "      <td>1.000000</td>\n",
       "      <td>1.000000</td>\n",
       "      <td>1.000000</td>\n",
       "      <td>1.000000</td>\n",
       "      <td>1.000000</td>\n",
       "      <td>1.000000</td>\n",
       "      <td>1.000000</td>\n",
       "      <td>1.000000</td>\n",
       "      <td>1.000000</td>\n",
       "    </tr>\n",
       "  </tbody>\n",
       "</table>\n",
       "<p>8 rows × 22 columns</p>\n",
       "</div>"
      ],
      "text/plain": [
       "       MDVP:Fo(Hz)  MDVP:Fhi(Hz)  MDVP:Flo(Hz)  MDVP:Jitter(%)  \\\n",
       "count   195.000000    195.000000    195.000000      195.000000   \n",
       "mean      0.383623      0.193841      0.292748        0.144233   \n",
       "std       0.240959      0.186761      0.250564        0.154007   \n",
       "min       0.000000      0.000000      0.000000        0.000000   \n",
       "25%       0.170220      0.066786      0.108323        0.056544   \n",
       "50%       0.351961      0.150411      0.223606        0.103558   \n",
       "75%       0.549775      0.249162      0.429160        0.180591   \n",
       "max       1.000000      1.000000      1.000000        1.000000   \n",
       "\n",
       "       MDVP:Jitter(Abs)    MDVP:RAP    MDVP:PPQ  Jitter:DDP  MDVP:Shimmer  \\\n",
       "count        195.000000  195.000000  195.000000  195.000000    195.000000   \n",
       "mean           0.146083    0.126513    0.136539    0.126704      0.184126   \n",
       "std            0.137636    0.142956    0.147420    0.142906      0.172147   \n",
       "min            0.000000    0.000000    0.000000    0.000000      0.000000   \n",
       "25%            0.051383    0.047206    0.051983    0.047279      0.063584   \n",
       "50%            0.090909    0.087669    0.098071    0.087494      0.122604   \n",
       "75%            0.209486    0.151975    0.162647    0.151951      0.258764   \n",
       "max            1.000000    1.000000    1.000000    1.000000      1.000000   \n",
       "\n",
       "       MDVP:Shimmer(dB)  ...    MDVP:APQ  Shimmer:DDA         NHR         HNR  \\\n",
       "count        195.000000  ...  195.000000   195.000000  195.000000  195.000000   \n",
       "mean           0.162080  ...    0.129347     0.214101    0.077019    0.546410   \n",
       "std            0.160129  ...    0.129771     0.195527    0.128652    0.179865   \n",
       "min            0.000000  ...    0.000000     0.000000    0.000000    0.000000   \n",
       "25%            0.052177  ...    0.045103     0.071222    0.016790    0.437170   \n",
       "50%            0.111750  ...    0.084769     0.158685    0.035045    0.554499   \n",
       "75%            0.217749  ...    0.170074     0.302703    0.079543    0.676034   \n",
       "max            1.000000  ...    1.000000     1.000000    1.000000    1.000000   \n",
       "\n",
       "             RPDE         DFA     spread1     spread2          D2         PPE  \n",
       "count  195.000000  195.000000  195.000000  195.000000  195.000000  195.000000  \n",
       "mean     0.564574    0.572963    0.412332    0.495783    0.426421    0.335549  \n",
       "std      0.242525    0.220456    0.197110    0.187758    0.170294    0.186649  \n",
       "min      0.000000    0.000000    0.000000    0.000000    0.000000    0.000000  \n",
       "25%      0.384375    0.400291    0.273893    0.378364    0.300658    0.192433  \n",
       "50%      0.558550    0.589516    0.405738    0.478618    0.417393    0.309661  \n",
       "75%      0.772299    0.747391    0.527720    0.614472    0.539698    0.431709  \n",
       "max      1.000000    1.000000    1.000000    1.000000    1.000000    1.000000  \n",
       "\n",
       "[8 rows x 22 columns]"
      ]
     },
     "execution_count": 15,
     "metadata": {},
     "output_type": "execute_result"
    }
   ],
   "source": [
    "df_new.describe()"
   ]
  },
  {
   "cell_type": "markdown",
   "id": "31c40615",
   "metadata": {},
   "source": [
    "## Decision Tree Classifier"
   ]
  },
  {
   "cell_type": "code",
   "execution_count": 16,
   "id": "fd8b54ee",
   "metadata": {},
   "outputs": [],
   "source": [
    "X=df_new\n",
    "y=target"
   ]
  },
  {
   "cell_type": "code",
   "execution_count": 17,
   "id": "15bc3227",
   "metadata": {},
   "outputs": [],
   "source": [
    "X_train,X_test,y_train,y_test = train_test_split(X,y,test_size=0.25,random_state=5)"
   ]
  },
  {
   "cell_type": "code",
   "execution_count": 18,
   "id": "079bf6aa",
   "metadata": {},
   "outputs": [],
   "source": [
    "dtc=DecisionTreeClassifier(criterion=\"entropy\",splitter=\"random\")"
   ]
  },
  {
   "cell_type": "code",
   "execution_count": 19,
   "id": "09a380e3",
   "metadata": {},
   "outputs": [
    {
     "data": {
      "text/plain": [
       "DecisionTreeClassifier(criterion='entropy', splitter='random')"
      ]
     },
     "execution_count": 19,
     "metadata": {},
     "output_type": "execute_result"
    }
   ],
   "source": [
    "dtc.fit(X_train,y_train)"
   ]
  },
  {
   "cell_type": "code",
   "execution_count": 20,
   "id": "5529f672",
   "metadata": {},
   "outputs": [],
   "source": [
    "y_pred=dtc.predict(X_test)"
   ]
  },
  {
   "cell_type": "code",
   "execution_count": 21,
   "id": "3a5f7dd9",
   "metadata": {},
   "outputs": [
    {
     "name": "stdout",
     "output_type": "stream",
     "text": [
      "Scores :-\n",
      "\n",
      "Train:   1.0\n",
      "Test:   0.8367346938775511\n",
      "Accuracy:   0.8367346938775511\n"
     ]
    }
   ],
   "source": [
    "print('Scores :-\\n')\n",
    "print('Train:  ',dtc.score(X_train,y_train))\n",
    "print('Test:  ',dtc.score(X_test,y_test))\n",
    "print('Accuracy:  ',accuracy_score(y_test,y_pred))"
   ]
  },
  {
   "cell_type": "code",
   "execution_count": 22,
   "id": "b9eac43b",
   "metadata": {},
   "outputs": [
    {
     "data": {
      "text/plain": [
       "<sklearn.metrics._plot.confusion_matrix.ConfusionMatrixDisplay at 0x2643135f0d0>"
      ]
     },
     "execution_count": 22,
     "metadata": {},
     "output_type": "execute_result"
    },
    {
     "data": {
      "image/png": "[encoded data removed]",
      "text/plain": [
       "<Figure size 432x288 with 2 Axes>"
      ]
     },
     "metadata": {
      "needs_background": "light"
     },
     "output_type": "display_data"
    }
   ],
   "source": [
    "cm = confusion_matrix(y_test,y_pred)\n",
    "ConfusionMatrixDisplay(cm).plot()"
   ]
  },
  {
   "cell_type": "markdown",
   "id": "bcb8488b",
   "metadata": {},
   "source": [
    "## Random Forests"
   ]
  },
  {
   "cell_type": "code",
   "execution_count": 23,
   "id": "ad21f940",
   "metadata": {},
   "outputs": [
    {
     "data": {
      "text/plain": [
       "RandomForestClassifier(n_estimators=300)"
      ]
     },
     "execution_count": 23,
     "metadata": {},
     "output_type": "execute_result"
    }
   ],
   "source": [
    "rfc = RandomForestClassifier(n_estimators=300)\n",
    "rfc.fit(X_train, y_train)"
   ]
  },
  {
   "cell_type": "code",
   "execution_count": 24,
   "id": "b322a284",
   "metadata": {},
   "outputs": [],
   "source": [
    "rfc_pred = rfc.predict(X_test)"
   ]
  },
  {
   "cell_type": "code",
   "execution_count": 25,
   "id": "3d473ee9",
   "metadata": {},
   "outputs": [
    {
     "name": "stdout",
     "output_type": "stream",
     "text": [
      "Scores :-\n",
      "\n",
      "Train:   1.0\n",
      "Test:   0.8979591836734694\n",
      "Accuracy:   0.8979591836734694\n"
     ]
    }
   ],
   "source": [
    "print('Scores :-\\n')\n",
    "print('Train:  ',rfc.score(X_train,y_train))\n",
    "print('Test:  ',rfc.score(X_test,y_test))\n",
    "print('Accuracy:  ',accuracy_score(y_test,rfc_pred))"
   ]
  },
  {
   "cell_type": "code",
   "execution_count": 26,
   "id": "1099476e",
   "metadata": {},
   "outputs": [
    {
     "data": {
      "text/plain": [
       "<sklearn.metrics._plot.confusion_matrix.ConfusionMatrixDisplay at 0x26431446a90>"
      ]
     },
     "execution_count": 26,
     "metadata": {},
     "output_type": "execute_result"
    },
    {
     "data": {
      "image/png": "[encoded data removed]",
      "text/plain": [
       "<Figure size 432x288 with 2 Axes>"
      ]
     },
     "metadata": {
      "needs_background": "light"
     },
     "output_type": "display_data"
    }
   ],
   "source": [
    "cm = confusion_matrix(y_test,rfc_pred)\n",
    "ConfusionMatrixDisplay(cm).plot()"
   ]
  },
  {
   "cell_type": "markdown",
   "id": "559344df",
   "metadata": {},
   "source": [
    "## Logistic Regression"
   ]
  },
  {
   "cell_type": "code",
   "execution_count": 27,
   "id": "358264f3",
   "metadata": {},
   "outputs": [
    {
     "data": {
      "text/plain": [
       "LogisticRegression()"
      ]
     },
     "execution_count": 27,
     "metadata": {},
     "output_type": "execute_result"
    }
   ],
   "source": [
    "lr=LogisticRegression()\n",
    "lr.fit(X_train,y_train)"
   ]
  },
  {
   "cell_type": "code",
   "execution_count": 28,
   "id": "48d052e0",
   "metadata": {},
   "outputs": [],
   "source": [
    "lr_pred=lr.predict(X_test)"
   ]
  },
  {
   "cell_type": "code",
   "execution_count": 29,
   "id": "c274e025",
   "metadata": {},
   "outputs": [
    {
     "name": "stdout",
     "output_type": "stream",
     "text": [
      "Scores :-\n",
      "\n",
      "Train:   0.8698630136986302\n",
      "Test:   0.8367346938775511\n",
      "Accuracy:   0.8367346938775511\n"
     ]
    }
   ],
   "source": [
    "print('Scores :-\\n')\n",
    "print('Train:  ',lr.score(X_train,y_train))\n",
    "print('Test:  ',lr.score(X_test,y_test))\n",
    "print('Accuracy:  ',accuracy_score(y_test,lr_pred))"
   ]
  },
  {
   "cell_type": "code",
   "execution_count": 30,
   "id": "938f5766",
   "metadata": {},
   "outputs": [
    {
     "data": {
      "text/plain": [
       "<sklearn.metrics._plot.confusion_matrix.ConfusionMatrixDisplay at 0x26431324880>"
      ]
     },
     "execution_count": 30,
     "metadata": {},
     "output_type": "execute_result"
    },
    {
     "data": {
      "image/png": "[encoded data removed]",
      "text/plain": [
       "<Figure size 432x288 with 2 Axes>"
      ]
     },
     "metadata": {
      "needs_background": "light"
     },
     "output_type": "display_data"
    }
   ],
   "source": [
    "cm = confusion_matrix(y_test,lr_pred)\n",
    "ConfusionMatrixDisplay(cm).plot()"
   ]
  },
  {
   "cell_type": "markdown",
   "id": "b96ec094",
   "metadata": {},
   "source": [
    "#### Hence Random Forest is the best model for prediction"
   ]
  },
  {
   "cell_type": "code",
   "execution_count": null,
   "id": "eee429af",
   "metadata": {},
   "outputs": [],
   "source": []
  }
 ],
 "metadata": {
  "kernelspec": {
   "display_name": "Python 3 (ipykernel)",
   "language": "python",
   "name": "python3"
  },
  "language_info": {
   "codemirror_mode": {
    "name": "ipython",
    "version": 3
   },
   "file_extension": ".py",
   "mimetype": "text/x-python",
   "name": "python",
   "nbconvert_exporter": "python",
   "pygments_lexer": "ipython3",
   "version": "3.9.7"
  }
 },
 "nbformat": 4,
 "nbformat_minor": 5
}
